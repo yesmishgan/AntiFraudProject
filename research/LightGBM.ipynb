{
  "nbformat": 4,
  "nbformat_minor": 0,
  "metadata": {
    "kernelspec": {
      "display_name": "Python 3",
      "language": "python",
      "name": "python3"
    },
    "language_info": {
      "codemirror_mode": {
        "name": "ipython",
        "version": 3
      },
      "file_extension": ".py",
      "mimetype": "text/x-python",
      "name": "python",
      "nbconvert_exporter": "python",
      "pygments_lexer": "ipython3",
      "version": "3.8.3"
    },
    "colab": {
      "name": "LightGBM.ipynb",
      "provenance": []
    },
    "accelerator": "GPU"
  },
  "cells": [
    {
      "cell_type": "code",
      "metadata": {
        "colab": {
          "base_uri": "https://localhost:8080/"
        },
        "id": "hO_IdpJOFR3F",
        "outputId": "729ff5b3-2d82-4d0e-899d-a5509b137fa2"
      },
      "source": [
        "pip install bayesian-optimization"
      ],
      "execution_count": null,
      "outputs": [
        {
          "output_type": "stream",
          "text": [
            "Collecting bayesian-optimization\n",
            "  Downloading https://files.pythonhosted.org/packages/bb/7a/fd8059a3881d3ab37ac8f72f56b73937a14e8bb14a9733e68cc8b17dbe3c/bayesian-optimization-1.2.0.tar.gz\n",
            "Requirement already satisfied: numpy>=1.9.0 in /usr/local/lib/python3.6/dist-packages (from bayesian-optimization) (1.19.4)\n",
            "Requirement already satisfied: scipy>=0.14.0 in /usr/local/lib/python3.6/dist-packages (from bayesian-optimization) (1.4.1)\n",
            "Requirement already satisfied: scikit-learn>=0.18.0 in /usr/local/lib/python3.6/dist-packages (from bayesian-optimization) (0.22.2.post1)\n",
            "Requirement already satisfied: joblib>=0.11 in /usr/local/lib/python3.6/dist-packages (from scikit-learn>=0.18.0->bayesian-optimization) (1.0.0)\n",
            "Building wheels for collected packages: bayesian-optimization\n",
            "  Building wheel for bayesian-optimization (setup.py) ... \u001b[?25l\u001b[?25hdone\n",
            "  Created wheel for bayesian-optimization: filename=bayesian_optimization-1.2.0-cp36-none-any.whl size=11685 sha256=6ad273d7f37602787fc43d8bc963b4ec9322cec9227cf483d38aed6ecdf4d6e4\n",
            "  Stored in directory: /root/.cache/pip/wheels/5a/56/ae/e0e3c1fc1954dc3ec712e2df547235ed072b448094d8f94aec\n",
            "Successfully built bayesian-optimization\n",
            "Installing collected packages: bayesian-optimization\n",
            "Successfully installed bayesian-optimization-1.2.0\n"
          ],
          "name": "stdout"
        }
      ]
    },
    {
      "cell_type": "code",
      "metadata": {
        "colab": {
          "base_uri": "https://localhost:8080/"
        },
        "id": "4eXUm7TRFBZ5",
        "outputId": "3d7cd893-e999-4b47-e86c-f18ecfd97922"
      },
      "source": [
        "pip install lightgbm"
      ],
      "execution_count": null,
      "outputs": [
        {
          "output_type": "stream",
          "text": [
            "Requirement already satisfied: lightgbm in /usr/local/lib/python3.6/dist-packages (2.2.3)\n",
            "Requirement already satisfied: numpy in /usr/local/lib/python3.6/dist-packages (from lightgbm) (1.19.4)\n",
            "Requirement already satisfied: scipy in /usr/local/lib/python3.6/dist-packages (from lightgbm) (1.4.1)\n",
            "Requirement already satisfied: scikit-learn in /usr/local/lib/python3.6/dist-packages (from lightgbm) (0.22.2.post1)\n",
            "Requirement already satisfied: joblib>=0.11 in /usr/local/lib/python3.6/dist-packages (from scikit-learn->lightgbm) (1.0.0)\n"
          ],
          "name": "stdout"
        }
      ]
    },
    {
      "cell_type": "code",
      "metadata": {
        "id": "Xo94jbHNaeJB"
      },
      "source": [
        "import numpy as np \n",
        "import pandas as pd \n",
        "# Data processing, metrics and modeling\n",
        "from sklearn.preprocessing import LabelEncoder\n",
        "from sklearn.model_selection import train_test_split, StratifiedKFold\n",
        "from bayes_opt import BayesianOptimization\n",
        "from datetime import datetime\n",
        "from sklearn.metrics import precision_score, recall_score, confusion_matrix, accuracy_score, roc_auc_score, f1_score, roc_curve, auc,precision_recall_curve\n",
        "\n",
        "from sklearn import metrics\n",
        "from sklearn import preprocessing\n",
        "import lightgbm as lgb\n",
        "\n",
        "# Suppr warning\n",
        "import warnings\n",
        "warnings.filterwarnings(\"ignore\")\n",
        "\n",
        "import itertools\n",
        "from scipy import interp\n",
        "\n",
        "# Plots\n",
        "import seaborn as sns\n",
        "import matplotlib.pyplot as plt\n",
        "%matplotlib inline\n",
        "from matplotlib import rcParams\n",
        "\n",
        "#Timer\n",
        "def timer(start_time=None):\n",
        "    if not start_time:\n",
        "        start_time = datetime.now()\n",
        "        return start_time\n",
        "    elif start_time:\n",
        "        thour, temp_sec = divmod((datetime.now() - start_time).total_seconds(), 3600)\n",
        "        tmin, tsec = divmod(temp_sec, 60)\n",
        "        print('Time taken for Modeling: %i hours %i minutes and %s seconds.' % (thour, tmin, round(tsec, 2)))"
      ],
      "execution_count": null,
      "outputs": []
    },
    {
      "cell_type": "code",
      "metadata": {
        "colab": {
          "base_uri": "https://localhost:8080/"
        },
        "id": "uoi6LJbea2tg",
        "outputId": "e153ad70-80d1-48dd-9723-72f616f78c5e"
      },
      "source": [
        "from google.colab import drive\n",
        "drive.mount('/content/drive')"
      ],
      "execution_count": null,
      "outputs": [
        {
          "output_type": "stream",
          "text": [
            "Mounted at /content/drive\n"
          ],
          "name": "stdout"
        }
      ]
    },
    {
      "cell_type": "code",
      "metadata": {
        "colab": {
          "base_uri": "https://localhost:8080/"
        },
        "id": "Sjt22zWSaeJL",
        "outputId": "d01a6866-c8d1-4ad2-cb24-b7f9398dad61"
      },
      "source": [
        "%%time\n",
        "\n",
        "folder_path = './drive/MyDrive/data/'\n",
        "print('Loading data...')\n",
        "\n",
        "train_identity = pd.read_csv(f'{folder_path}train_identity.csv', index_col='TransactionID')\n",
        "print('\\tSuccessfully loaded train_identity!')\n",
        "\n",
        "train_transaction = pd.read_csv(f'{folder_path}train_transaction.csv', index_col='TransactionID')\n",
        "print('\\tSuccessfully loaded train_transaction!')\n",
        "\n",
        "test_identity = pd.read_csv(f'{folder_path}test_identity.csv', index_col='TransactionID')\n",
        "print('\\tSuccessfully loaded test_identity!')\n",
        "\n",
        "test_transaction = pd.read_csv(f'{folder_path}test_transaction.csv', index_col='TransactionID')\n",
        "print('\\tSuccessfully loaded test_transaction!')\n",
        "\n",
        "sub = pd.read_csv(f'{folder_path}sample_submission.csv')\n",
        "print('\\tSuccessfully loaded sample_submission!')\n",
        "\n",
        "print('Data was successfully loaded!\\n')"
      ],
      "execution_count": null,
      "outputs": [
        {
          "output_type": "stream",
          "text": [
            "Loading data...\n",
            "\tSuccessfully loaded train_identity!\n",
            "\tSuccessfully loaded train_transaction!\n",
            "\tSuccessfully loaded test_identity!\n",
            "\tSuccessfully loaded test_transaction!\n",
            "\tSuccessfully loaded sample_submission!\n",
            "Data was successfully loaded!\n",
            "\n",
            "CPU times: user 28.8 s, sys: 4.35 s, total: 33.1 s\n",
            "Wall time: 40.7 s\n"
          ],
          "name": "stdout"
        }
      ]
    },
    {
      "cell_type": "code",
      "metadata": {
        "colab": {
          "base_uri": "https://localhost:8080/"
        },
        "id": "feFFmR63aeJM",
        "outputId": "d4a01500-c3c2-4743-dab6-e61bc343f967"
      },
      "source": [
        "%%time\n",
        "# merge to data\n",
        "train_df = pd.merge(train_transaction, train_identity, on='TransactionID', how='left')\n",
        "test_df = pd.merge(test_transaction, test_identity, on='TransactionID', how='left')"
      ],
      "execution_count": null,
      "outputs": [
        {
          "output_type": "stream",
          "text": [
            "CPU times: user 7.36 s, sys: 3.54 s, total: 10.9 s\n",
            "Wall time: 11 s\n"
          ],
          "name": "stdout"
        }
      ]
    },
    {
      "cell_type": "code",
      "metadata": {
        "id": "DFc8QByHaeJN"
      },
      "source": [
        "# GPreda, missing data\n",
        "def missing_data(data):\n",
        "    total = data.isnull().sum()\n",
        "    percent = (data.isnull().sum()/data.isnull().count()*100)\n",
        "    tt = pd.concat([total, percent], axis=1, keys=['Total', 'Percent'])\n",
        "    types = []\n",
        "    for col in data.columns:\n",
        "        dtype = str(data[col].dtype)\n",
        "        types.append(dtype)\n",
        "    tt['Types'] = types\n",
        "    return(np.transpose(tt))"
      ],
      "execution_count": null,
      "outputs": []
    },
    {
      "cell_type": "code",
      "metadata": {
        "id": "neQ7GH8eaeJO"
      },
      "source": [
        "del train_transaction, train_identity, test_transaction, test_identity"
      ],
      "execution_count": null,
      "outputs": []
    },
    {
      "cell_type": "code",
      "metadata": {
        "id": "JMHjy7lDaeJP"
      },
      "source": [
        "train_df = train_df.fillna(-999)\n",
        "test_df = test_df.fillna(-999)"
      ],
      "execution_count": null,
      "outputs": []
    },
    {
      "cell_type": "code",
      "metadata": {
        "colab": {
          "base_uri": "https://localhost:8080/"
        },
        "id": "BkXa-4anaeJQ",
        "outputId": "16f8b415-3806-4580-eb49-09db7b881bd1"
      },
      "source": [
        "train_df['isFraud'].value_counts()"
      ],
      "execution_count": null,
      "outputs": [
        {
          "output_type": "execute_result",
          "data": {
            "text/plain": [
              "0    569877\n",
              "1     20663\n",
              "Name: isFraud, dtype: int64"
            ]
          },
          "metadata": {
            "tags": []
          },
          "execution_count": 10
        }
      ]
    },
    {
      "cell_type": "code",
      "metadata": {
        "id": "_Q6QgzQqJCf4"
      },
      "source": [
        "# Label Encoding\n",
        "for f in train_df.columns:\n",
        "    if  train_df[f].dtype=='object': \n",
        "        lbl = preprocessing.LabelEncoder()\n",
        "        lbl.fit(list(train_df[f].values) + list(test_df[f].values))\n",
        "        train_df[f] = lbl.transform(list(train_df[f].values))\n",
        "        test_df[f] = lbl.transform(list(test_df[f].values))  \n",
        "train_df = train_df.reset_index()\n",
        "test_df = test_df.reset_index()"
      ],
      "execution_count": null,
      "outputs": []
    },
    {
      "cell_type": "code",
      "metadata": {
        "colab": {
          "base_uri": "https://localhost:8080/"
        },
        "id": "iElSDCvGJVqh",
        "outputId": "9e3d9937-e170-4115-9d0c-900ec33ec1da"
      },
      "source": [
        "features = list(train_df)\n",
        "features.remove('isFraud')\n",
        "print(features)\n",
        "target = 'isFraud'"
      ],
      "execution_count": null,
      "outputs": [
        {
          "output_type": "stream",
          "text": [
            "['TransactionID', 'TransactionDT', 'TransactionAmt', 'ProductCD', 'card1', 'card2', 'card3', 'card4', 'card5', 'card6', 'addr1', 'addr2', 'dist1', 'dist2', 'P_emaildomain', 'R_emaildomain', 'C1', 'C2', 'C3', 'C4', 'C5', 'C6', 'C7', 'C8', 'C9', 'C10', 'C11', 'C12', 'C13', 'C14', 'D1', 'D2', 'D3', 'D4', 'D5', 'D6', 'D7', 'D8', 'D9', 'D10', 'D11', 'D12', 'D13', 'D14', 'D15', 'M1', 'M2', 'M3', 'M4', 'M5', 'M6', 'M7', 'M8', 'M9', 'V1', 'V2', 'V3', 'V4', 'V5', 'V6', 'V7', 'V8', 'V9', 'V10', 'V11', 'V12', 'V13', 'V14', 'V15', 'V16', 'V17', 'V18', 'V19', 'V20', 'V21', 'V22', 'V23', 'V24', 'V25', 'V26', 'V27', 'V28', 'V29', 'V30', 'V31', 'V32', 'V33', 'V34', 'V35', 'V36', 'V37', 'V38', 'V39', 'V40', 'V41', 'V42', 'V43', 'V44', 'V45', 'V46', 'V47', 'V48', 'V49', 'V50', 'V51', 'V52', 'V53', 'V54', 'V55', 'V56', 'V57', 'V58', 'V59', 'V60', 'V61', 'V62', 'V63', 'V64', 'V65', 'V66', 'V67', 'V68', 'V69', 'V70', 'V71', 'V72', 'V73', 'V74', 'V75', 'V76', 'V77', 'V78', 'V79', 'V80', 'V81', 'V82', 'V83', 'V84', 'V85', 'V86', 'V87', 'V88', 'V89', 'V90', 'V91', 'V92', 'V93', 'V94', 'V95', 'V96', 'V97', 'V98', 'V99', 'V100', 'V101', 'V102', 'V103', 'V104', 'V105', 'V106', 'V107', 'V108', 'V109', 'V110', 'V111', 'V112', 'V113', 'V114', 'V115', 'V116', 'V117', 'V118', 'V119', 'V120', 'V121', 'V122', 'V123', 'V124', 'V125', 'V126', 'V127', 'V128', 'V129', 'V130', 'V131', 'V132', 'V133', 'V134', 'V135', 'V136', 'V137', 'V138', 'V139', 'V140', 'V141', 'V142', 'V143', 'V144', 'V145', 'V146', 'V147', 'V148', 'V149', 'V150', 'V151', 'V152', 'V153', 'V154', 'V155', 'V156', 'V157', 'V158', 'V159', 'V160', 'V161', 'V162', 'V163', 'V164', 'V165', 'V166', 'V167', 'V168', 'V169', 'V170', 'V171', 'V172', 'V173', 'V174', 'V175', 'V176', 'V177', 'V178', 'V179', 'V180', 'V181', 'V182', 'V183', 'V184', 'V185', 'V186', 'V187', 'V188', 'V189', 'V190', 'V191', 'V192', 'V193', 'V194', 'V195', 'V196', 'V197', 'V198', 'V199', 'V200', 'V201', 'V202', 'V203', 'V204', 'V205', 'V206', 'V207', 'V208', 'V209', 'V210', 'V211', 'V212', 'V213', 'V214', 'V215', 'V216', 'V217', 'V218', 'V219', 'V220', 'V221', 'V222', 'V223', 'V224', 'V225', 'V226', 'V227', 'V228', 'V229', 'V230', 'V231', 'V232', 'V233', 'V234', 'V235', 'V236', 'V237', 'V238', 'V239', 'V240', 'V241', 'V242', 'V243', 'V244', 'V245', 'V246', 'V247', 'V248', 'V249', 'V250', 'V251', 'V252', 'V253', 'V254', 'V255', 'V256', 'V257', 'V258', 'V259', 'V260', 'V261', 'V262', 'V263', 'V264', 'V265', 'V266', 'V267', 'V268', 'V269', 'V270', 'V271', 'V272', 'V273', 'V274', 'V275', 'V276', 'V277', 'V278', 'V279', 'V280', 'V281', 'V282', 'V283', 'V284', 'V285', 'V286', 'V287', 'V288', 'V289', 'V290', 'V291', 'V292', 'V293', 'V294', 'V295', 'V296', 'V297', 'V298', 'V299', 'V300', 'V301', 'V302', 'V303', 'V304', 'V305', 'V306', 'V307', 'V308', 'V309', 'V310', 'V311', 'V312', 'V313', 'V314', 'V315', 'V316', 'V317', 'V318', 'V319', 'V320', 'V321', 'V322', 'V323', 'V324', 'V325', 'V326', 'V327', 'V328', 'V329', 'V330', 'V331', 'V332', 'V333', 'V334', 'V335', 'V336', 'V337', 'V338', 'V339', 'id_01', 'id_02', 'id_03', 'id_04', 'id_05', 'id_06', 'id_07', 'id_08', 'id_09', 'id_10', 'id_11', 'id_12', 'id_13', 'id_14', 'id_15', 'id_16', 'id_17', 'id_18', 'id_19', 'id_20', 'id_21', 'id_22', 'id_23', 'id_24', 'id_25', 'id_26', 'id_27', 'id_28', 'id_29', 'id_30', 'id_31', 'id_32', 'id_33', 'id_34', 'id_35', 'id_36', 'id_37', 'id_38', 'DeviceType', 'DeviceInfo']\n"
          ],
          "name": "stdout"
        }
      ]
    },
    {
      "cell_type": "code",
      "metadata": {
        "colab": {
          "base_uri": "https://localhost:8080/",
          "height": 1000
        },
        "id": "PU6KpQVNJaUx",
        "outputId": "b42d5901-8120-47f8-f6a2-0805b323120a"
      },
      "source": [
        "print('LightGBM GPU modeling...')\n",
        "start_time = timer(None)\n",
        "plt.rcParams[\"axes.grid\"] = True\n",
        "\n",
        "nfold = 5\n",
        "skf = StratifiedKFold(n_splits=nfold, shuffle=True, random_state=42)\n",
        "\n",
        "oof = np.zeros(len(train_df))\n",
        "mean_fpr = np.linspace(0,1,100)\n",
        "cms= []\n",
        "tprs = []\n",
        "aucs = []\n",
        "y_real = []\n",
        "y_proba = []\n",
        "recalls = []\n",
        "roc_aucs = []\n",
        "f1_scores = []\n",
        "accuracies = []\n",
        "precisions = []\n",
        "feature_importance_df = pd.DataFrame()\n",
        "\n",
        "i = 1\n",
        "for train_idx, valid_idx in skf.split(train_df, train_df.isFraud.values):\n",
        "    print(\"\\nfold {}\".format(i))\n",
        "    clf = lgb.LGBMClassifier( \n",
        "        n_estimators=1000,\n",
        "        max_depth=12, \n",
        "        learning_rate=0.2, \n",
        "        subsample=0.8,\n",
        "        colsample_bytree=0.4, \n",
        "        missing=-1, \n",
        "        eval_metric=['auc', 'logloss'],\n",
        "        tree_method='gpu_hist' \n",
        "    )\n",
        "\n",
        "    clf.fit(train_df.iloc[train_idx][features].values,\n",
        "                train_df.iloc[train_idx][target].values, \n",
        "                eval_set=[(train_df.iloc[valid_idx][features].values,\n",
        "                           train_df.iloc[valid_idx]['isFraud'].values)],\n",
        "                verbose=100)\n",
        "    \n",
        "    print(\"OK\")\n",
        "\n",
        "    oof[valid_idx]  = clf.predict(train_df.iloc[valid_idx][features].values)   \n",
        "    oof[valid_idx]  = np.exp(oof[valid_idx]) / (1 + np.exp(oof[valid_idx]))\n",
        "    \n",
        "    print(\"OK\")\n",
        "    \n",
        "    # Scores \n",
        "    roc_aucs.append(roc_auc_score(train_df.iloc[valid_idx][target].values, oof[valid_idx]))\n",
        "    accuracies.append(accuracy_score(train_df.iloc[valid_idx][target].values, oof[valid_idx].round()))\n",
        "    recalls.append(recall_score(train_df.iloc[valid_idx][target].values, oof[valid_idx].round()))\n",
        "    precisions.append(precision_score(train_df.iloc[valid_idx][target].values ,oof[valid_idx].round()))\n",
        "    f1_scores.append(f1_score(train_df.iloc[valid_idx][target].values, oof[valid_idx].round()))\n",
        "    \n",
        "    print(\"OK\")\n",
        "\n",
        "    # Roc curve by fold\n",
        "    f = plt.figure(1)\n",
        "    fpr, tpr, t = roc_curve(train_df.iloc[valid_idx][target].values, oof[valid_idx])\n",
        "    tprs.append(interp(mean_fpr, fpr, tpr))\n",
        "    roc_auc = auc(fpr, tpr)\n",
        "    aucs.append(roc_auc)\n",
        "    plt.plot(fpr, tpr, lw=2, alpha=0.3, label='ROC fold %d (AUC = %0.4f)' % (i,roc_auc))\n",
        "\n",
        "    print(\"OK\")\n",
        "\n",
        "    # Precion recall by folds\n",
        "    g = plt.figure(2)\n",
        "    precision, recall, _ = precision_recall_curve(train_df.iloc[valid_idx][target].values, oof[valid_idx])\n",
        "    y_real.append(train_df.iloc[valid_idx][target].values)\n",
        "    y_proba.append(oof[valid_idx])\n",
        "    plt.plot(recall, precision, lw=2, alpha=0.3, label='P|R fold %d' % (i))  \n",
        "    \n",
        "    i= i+1\n",
        "    \n",
        "    # Confusion matrix by folds\n",
        "    cms.append(confusion_matrix(train_df.iloc[valid_idx][target].values, oof[valid_idx].round()))\n",
        "    \n",
        "    print(\"OK\")\n",
        "\n",
        "    # Features imp\n",
        "    \"\"\"\n",
        "    fold_importance_df = pd.DataFrame()\n",
        "    fold_importance_df[\"Feature\"] = features\n",
        "    fold_importance_df[\"importance\"] = clf.get_feature_importance()\n",
        "    fold_importance_df[\"fold\"] = nfold + 1\n",
        "    feature_importance_df = pd.concat([feature_importance_df, fold_importance_df], axis=0)\n",
        "    \"\"\"\n",
        "    #clf.save_model('CBmodel' + str(i) + '.json')\n",
        "\n",
        "    print(\"OK\")\n",
        "# Metrics\n",
        "print(\n",
        "        '\\nCV roc score        : {0:.4f}, std: {1:.4f}.'.format(np.mean(roc_aucs), np.std(roc_aucs)),\n",
        "        '\\nCV accuracy score   : {0:.4f}, std: {1:.4f}.'.format(np.mean(accuracies), np.std(accuracies)),\n",
        "        '\\nCV recall score     : {0:.4f}, std: {1:.4f}.'.format(np.mean(recalls), np.std(recalls)),\n",
        "        '\\nCV precision score  : {0:.4f}, std: {1:.4f}.'.format(np.mean(precisions), np.std(precisions)),\n",
        "        '\\nCV f1 score         : {0:.4f}, std: {1:.4f}.'.format(np.mean(f1_scores), np.std(f1_scores)))"
      ],
      "execution_count": null,
      "outputs": [
        {
          "output_type": "stream",
          "text": [
            "LightGBM GPU modeling...\n",
            "\n",
            "fold 1\n",
            "[100]\tvalid_0's binary_logloss: 0.100462\n",
            "[200]\tvalid_0's binary_logloss: 0.125984\n",
            "[300]\tvalid_0's binary_logloss: 0.16506\n",
            "[400]\tvalid_0's binary_logloss: 0.186807\n",
            "[500]\tvalid_0's binary_logloss: 0.203342\n",
            "[600]\tvalid_0's binary_logloss: 0.289767\n",
            "[700]\tvalid_0's binary_logloss: 0.338621\n",
            "[800]\tvalid_0's binary_logloss: 0.425952\n",
            "[900]\tvalid_0's binary_logloss: 0.467113\n",
            "[1000]\tvalid_0's binary_logloss: 0.591299\n",
            "OK\n",
            "OK\n",
            "OK\n",
            "OK\n",
            "OK\n",
            "OK\n",
            "\n",
            "fold 2\n",
            "[100]\tvalid_0's binary_logloss: 0.117485\n",
            "[200]\tvalid_0's binary_logloss: 0.174188\n",
            "[300]\tvalid_0's binary_logloss: 0.251491\n",
            "[400]\tvalid_0's binary_logloss: 0.308022\n",
            "[500]\tvalid_0's binary_logloss: 0.317272\n",
            "[600]\tvalid_0's binary_logloss: 0.344547\n",
            "[700]\tvalid_0's binary_logloss: 0.52452\n",
            "[800]\tvalid_0's binary_logloss: 0.745994\n",
            "[900]\tvalid_0's binary_logloss: 0.830191\n",
            "[1000]\tvalid_0's binary_logloss: 0.812232\n",
            "OK\n",
            "OK\n",
            "OK\n",
            "OK\n",
            "OK\n",
            "OK\n",
            "\n",
            "fold 3\n",
            "[100]\tvalid_0's binary_logloss: 0.102723\n",
            "[200]\tvalid_0's binary_logloss: 0.140618\n",
            "[300]\tvalid_0's binary_logloss: 0.223432\n",
            "[400]\tvalid_0's binary_logloss: 0.423458\n",
            "[500]\tvalid_0's binary_logloss: 0.373837\n",
            "[600]\tvalid_0's binary_logloss: 0.449898\n",
            "[700]\tvalid_0's binary_logloss: 0.499176\n",
            "[800]\tvalid_0's binary_logloss: 0.62728\n",
            "[900]\tvalid_0's binary_logloss: 0.670437\n",
            "[1000]\tvalid_0's binary_logloss: 0.743581\n",
            "OK\n",
            "OK\n",
            "OK\n",
            "OK\n",
            "OK\n",
            "OK\n",
            "\n",
            "fold 4\n",
            "[100]\tvalid_0's binary_logloss: 0.116963\n",
            "[200]\tvalid_0's binary_logloss: 0.145737\n",
            "[300]\tvalid_0's binary_logloss: 0.25446\n",
            "[400]\tvalid_0's binary_logloss: 0.334163\n",
            "[500]\tvalid_0's binary_logloss: 0.379942\n",
            "[600]\tvalid_0's binary_logloss: 0.489573\n",
            "[700]\tvalid_0's binary_logloss: 0.507811\n",
            "[800]\tvalid_0's binary_logloss: 0.525423\n",
            "[900]\tvalid_0's binary_logloss: 0.665524\n",
            "[1000]\tvalid_0's binary_logloss: 0.857471\n",
            "OK\n",
            "OK\n",
            "OK\n",
            "OK\n",
            "OK\n",
            "OK\n",
            "\n",
            "fold 5\n",
            "[100]\tvalid_0's binary_logloss: 0.108611\n",
            "[200]\tvalid_0's binary_logloss: 0.120172\n",
            "[300]\tvalid_0's binary_logloss: 0.163941\n",
            "[400]\tvalid_0's binary_logloss: 0.174383\n",
            "[500]\tvalid_0's binary_logloss: 0.211969\n",
            "[600]\tvalid_0's binary_logloss: 0.345304\n",
            "[700]\tvalid_0's binary_logloss: 0.38159\n",
            "[800]\tvalid_0's binary_logloss: 0.828982\n",
            "[900]\tvalid_0's binary_logloss: 0.697227\n",
            "[1000]\tvalid_0's binary_logloss: 0.73395\n",
            "OK\n",
            "OK\n",
            "OK\n",
            "OK\n",
            "OK\n",
            "OK\n",
            "\n",
            "CV roc score        : 0.6782, std: 0.0108. \n",
            "CV accuracy score   : 0.9655, std: 0.0019. \n",
            "CV recall score     : 0.3692, std: 0.0204. \n",
            "CV precision score  : 0.5114, std: 0.0383. \n",
            "CV f1 score         : 0.4288, std: 0.0271.\n"
          ],
          "name": "stdout"
        },
        {
          "output_type": "display_data",
          "data": {
            "image/png": "[encoded data removed]",
            "text/plain": [
              "<Figure size 432x288 with 1 Axes>"
            ]
          },
          "metadata": {
            "tags": [],
            "needs_background": "light"
          }
        },
        {
          "output_type": "display_data",
          "data": {
            "image/png": "[encoded data removed]",
            "text/plain": [
              "<Figure size 432x288 with 1 Axes>"
            ]
          },
          "metadata": {
            "tags": [],
            "needs_background": "light"
          }
        }
      ]
    },
    {
      "cell_type": "code",
      "metadata": {
        "id": "Qq9LDkz-iqCJ"
      },
      "source": [
        "# Confusion matrix \n",
        "def plot_confusion_matrix(cm, classes,\n",
        "                          normalize = False,\n",
        "                          title = 'Confusion matrix\"',\n",
        "                          cmap = plt.cm.Blues) :\n",
        "    plt.imshow(cm, interpolation = 'nearest', cmap = cmap)\n",
        "    plt.title(title)\n",
        "    plt.colorbar()\n",
        "    tick_marks = np.arange(len(classes))\n",
        "    plt.xticks(tick_marks, classes, rotation = 0)\n",
        "    plt.yticks(tick_marks, classes)\n",
        "\n",
        "    thresh = cm.max() / 2.\n",
        "    for i, j in itertools.product(range(cm.shape[0]), range(cm.shape[1])) :\n",
        "        plt.text(j, i, cm[i, j],\n",
        "                 horizontalalignment = 'center',\n",
        "                 color = 'white' if cm[i, j] > thresh else 'black')\n",
        " \n",
        "    plt.tight_layout()\n",
        "    plt.ylabel('True label')\n",
        "    plt.xlabel('Predicted label')"
      ],
      "execution_count": null,
      "outputs": []
    },
    {
      "cell_type": "code",
      "metadata": {
        "colab": {
          "base_uri": "https://localhost:8080/",
          "height": 589
        },
        "id": "-0HJLrBwiwbD",
        "outputId": "ebbc23cd-2c91-45dd-ccee-106985c80970"
      },
      "source": [
        "#ROC\n",
        "f = plt.figure(1)\n",
        "plt.plot([0,1],[0,1],linestyle = '--',lw = 2,color = 'grey')\n",
        "mean_tpr = np.mean(tprs, axis=0)\n",
        "mean_auc = auc(mean_fpr, mean_tpr)\n",
        "plt.plot(mean_fpr, mean_tpr, color='blue',\n",
        "         label=r'Mean ROC (AUC = %0.4f)' % (np.mean(roc_aucs)),lw=2, alpha=1)\n",
        "\n",
        "plt.xlabel('False Positive Rate')\n",
        "plt.ylabel('True Positive Rate')\n",
        "plt.title('LightGBM ROC curve by folds')\n",
        "plt.legend(loc=\"lower right\")\n",
        "\n",
        "# XGBoost maxtrix & metrics\n",
        "plt.rcParams[\"axes.grid\"] = False\n",
        "cm = np.average(cms, axis=0)\n",
        "class_names = [0,1]\n",
        "plt.figure()\n",
        "plot_confusion_matrix(cm, \n",
        "                      classes=class_names, \n",
        "                      title= 'LightGBM Confusion matrix [averaged/folds]')\n",
        "# Timer end  "
      ],
      "execution_count": null,
      "outputs": [
        {
          "output_type": "display_data",
          "data": {
            "image/png": "[encoded data removed]",
            "text/plain": [
              "<Figure size 432x288 with 1 Axes>"
            ]
          },
          "metadata": {
            "tags": [],
            "needs_background": "light"
          }
        },
        {
          "output_type": "display_data",
          "data": {
            "image/png": "[encoded data removed]",
            "text/plain": [
              "<Figure size 432x288 with 2 Axes>"
            ]
          },
          "metadata": {
            "tags": [],
            "needs_background": "light"
          }
        }
      ]
    }
  ]
}